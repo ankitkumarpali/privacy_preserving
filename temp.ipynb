{
 "cells": [
  {
   "cell_type": "code",
   "execution_count": null,
   "metadata": {},
   "outputs": [],
   "source": [
    "import pandas as pd\n",
    "import numpy as np\n",
    "from tensorflow.keras import layers\n",
    "from tensorflow.keras import initializers\n",
    "import math"
   ]
  },
  {
   "cell_type": "code",
   "execution_count": 10,
   "metadata": {},
   "outputs": [],
   "source": [
    "\n",
    "\n",
    "class Load:\n",
    "    \n",
    "    def __init__(self, filename):\n",
    "        self.filename = filename  \n",
    "        self.map_num_to_one_code = {0: \"000000000\", 1:  \"000000001\", 2:  \"000000010\", 3:\"000000100\", 4: \"000001000\", 5: \"000010000\", 6: \"000100000\", 7: \"001000000\", 8: \"010000000\", 9: \"100000000\"}\n",
    "        self.map_trans_to_zip = {}\n",
    "        self.lambda_temporal_penalty_factor = []\n",
    "        self.lambda_specto_penalty_factor = []\n",
    "        self.weights_temporal = []\n",
    "        self.weights_specto = []\n",
    "        self.temporal_attention_coefficient = []\n",
    "        self.specto_attention_coefficient = []\n",
    "        self.temporal_slices = 0\n",
    "        self.spatio_slices = 0\n",
    "        self.user_transactions = {}\n",
    "        \n",
    "    def load_data(self):\n",
    "        global df\n",
    "        df = pd.read_csv(self.filename)\n",
    "        print(df.columns)\n",
    "        # df['location'] = df[df.columns[9:12]].apply(lambda x: ' '.join(x.dropna().astype(str)), axis=1)\n",
    "        # df['user_name'] =  df[df.columns[6:8]].apply(lambda x: ' '.join(x.dropna().astype(str)), axis=1)\n",
    "     \n",
    "     \n",
    "    def one_hot_encoding_location(self):\n",
    "        zipcode = df.zip\n",
    "        trans_num = df.trans_num\n",
    "        zip_list = []\n",
    "        for (z, tran) in zip(zipcode, trans_num):\n",
    "            li = []\n",
    "            while z > 0:\n",
    "                last = z%10\n",
    "                li.append(self.map_num_to_one_code[last])\n",
    "                z = z//10\n",
    "            self.map_trans_to_zip[tran] = li\n",
    "        \n",
    "     def map_user_to_transactions():\n",
    "         user_transactions[]\n",
    "            \n",
    "    def initialize_variables_temporal(self, size):\n",
    "        for i in range(size):\n",
    "            self.lambda_temporal_penalty_factor.append((((double)rand())/(double)(RAND_MAX))/2 + 0.5)\n",
    "        \n",
    "        self.weights_temporal = np.random.randn(self.temporal_slices, self.spatio_slices, 128)\n",
    "        \n",
    "        \n",
    "    def initialize_variables_specto(self):\n",
    "        for i in range(size):\n",
    "            self.lambda_specto_penalty_factor.append((((double)rand())/(double)(RAND_MAX))/2 + 0.5)\n",
    "        self.weights_specto = np.random.randn(self.spatio_slices, self.temporal_slices, 128)\n",
    "        \n",
    "        \n",
    "    def calculate_numerator_attention_coefficient(self, idx):\n",
    "        lambda_addition = 1 - self.lambda_temporal_penalty_factor[idx]\n",
    "        initializer = tf.keras.initializers.HeNormal()\n",
    "        layer = tf.keras.layers.Dense(3, kernel_initializer=initializer)\n",
    "        penaltied_layer = lambda_addition*layer\n",
    "        temporal_attention_numerator = math.exp(penaltied_layer)\n",
    "        return temporal_attention_numerator\n",
    "    \n",
    "    \n",
    "    def temporal_attention(self):\n",
    "        for i in range():\n",
    "            calculate_denominator += calculate_numerator_attention_coefficient(i) \n",
    "                \n",
    "    def check(self):\n",
    "        j = 0\n",
    "        for i in self.map_trans_to_zip:\n",
    "            if j > 10:\n",
    "                break\n",
    "            j += 1\n",
    "            print(self.map_trans_to_zip[i])\n",
    "    \n",
    "    \n"
   ]
  },
  {
   "cell_type": "code",
   "execution_count": 4,
   "metadata": {},
   "outputs": [
    {
     "name": "stdout",
     "output_type": "stream",
     "text": [
      "Index(['Unnamed: 0.1', 'Unnamed: 0', 'trans_date_trans_time', 'amt', 'street',\n",
      "       'city', 'state', 'zip', 'trans_num', 'unix_time', 'is_fraud',\n",
      "       'location', 'user_name'],\n",
      "      dtype='object')\n",
      "<class 'numpy.int64'>\n"
     ]
    }
   ],
   "source": [
    "# print(df.zip)\n",
    "print(df.columns)\n",
    "print(type(df.zip[1]))\n",
    "# fd = df.head()\n",
    "# print(fd)\n",
    "# fd.to_csv(\"temp.csv\")\n",
    "# print(df.user_name)\n",
    "# df.drop(df.columns[[7,10,11]], axis=1, inplace=True)\n"
   ]
  },
  {
   "cell_type": "code",
   "execution_count": 39,
   "metadata": {},
   "outputs": [],
   "source": [
    "# df.to_csv(\"compressed.csv\")"
   ]
  },
  {
   "cell_type": "code",
   "execution_count": 12,
   "metadata": {},
   "outputs": [
    {
     "name": "stdout",
     "output_type": "stream",
     "text": [
      "Index(['Unnamed: 0.1', 'Unnamed: 0', 'trans_date_trans_time', 'amt', 'street',\n",
      "       'city', 'state', 'zip', 'trans_num', 'unix_time', 'is_fraud',\n",
      "       'location', 'user_name'],\n",
      "      dtype='object')\n",
      "['000001000', '000010000', '000100000', '010000000', '000000010']\n",
      "['000000000', '000100000', '000000001', '100000000', '100000000']\n",
      "['000000010', '000010000', '000000010', '000000100', '010000000']\n",
      "['000000010', '000000100', '000100000', '100000000', '000010000']\n",
      "['000000100', '000000100', '000001000', '000001000', '000000010']\n",
      "['001000000', '000000001', '100000000', '010000000', '000000001']\n",
      "['000000001', '000010000', '010000000', '001000000', '000100000']\n",
      "['000001000', '000000010', '010000000', '000000010', '000000010']\n",
      "['000010000', '000100000', '000100000', '000010000', '000000001']\n",
      "['000000000', '000001000', '000000000', '001000000', '000000100']\n",
      "['000000010', '000000100', '000100000', '000000001', '000010000']\n"
     ]
    }
   ],
   "source": [
    "if __name__ == \"__main__\":\n",
    "    s = Load(\"compressed.csv\")\n",
    "    s.load_data()\n",
    "    s.one_hot_encoding_location()\n",
    "    s.check()"
   ]
  }
 ],
 "metadata": {
  "kernelspec": {
   "display_name": "Python 3",
   "language": "python",
   "name": "python3"
  },
  "language_info": {
   "codemirror_mode": {
    "name": "ipython",
    "version": 3
   },
   "file_extension": ".py",
   "mimetype": "text/x-python",
   "name": "python",
   "nbconvert_exporter": "python",
   "pygments_lexer": "ipython3",
   "version": "3.8.10"
  },
  "orig_nbformat": 4,
  "vscode": {
   "interpreter": {
    "hash": "31f2aee4e71d21fbe5cf8b01ff0e069b9275f58929596ceb00d14d90e3e16cd6"
   }
  }
 },
 "nbformat": 4,
 "nbformat_minor": 2
}
